{
 "cells": [
  {
   "cell_type": "markdown",
   "metadata": {},
   "source": [
    "# News Search TL;DR using Langgraph (Too Long Didn't Read)\n",
    "\n",
    "## Overview\n",
    "This project demonstrates the creation of a news summarization agent uses large language models (LLMs) for decision making and summarization as well as a news API calls. The integration of LangGraph to coordinate sequential and cyclical processes, open-ai to choose and condense articles, newsAPI to retrieve relevant article metadata, and BeautifulSoup for web scraping allows for the generation of relevant current event article TL;DRs from a single query.\n",
    "\n",
    "## Motivation\n",
    "Although LLMs demonstrate excellent conversational and educational ability, they lack access to knowledge of current events. This project allow users to ask about a news topic they are interested and receive a TL;DR of relevant articles. The goal is to allow users to conveniently follow their interest and stay current with their connection to world events.\n",
    "\n",
    "## Key Components\n",
    "1. **LangGraph**: Orchestrates the overall workflow, managing the flow of data between different stages of the process.\n",
    "2. **GPT-4o-mini (via LangChain)**: Generates search terms, selects relevant articles, parses html, provides article summaries\n",
    "3. **NewsAPI**: Retrieves article metadata from keyword search\n",
    "4. **BeautifulSoup**: Retrieves html from page\n",
    "5. **Asyncio**: Allows separate LLM calls to be made concurrently for speed efficiency.\n",
    "\n",
    "## Method\n",
    "The news research follows these high-level steps:\n",
    "\n",
    "1. **NewsAPI Parameter Creation (LLM 1)**: Given a user query, the model generates a formatted parameter dict for the news search.\n",
    "\n",
    "2. **Article Metadata Retrieval**: An API call to NewsAPI retrieves relevant article metadata.\n",
    "\n",
    "3. **Article Text Retrieval**: Beautiful Soup scrapes the full article text from the urls to ensure validity.\n",
    "\n",
    "4. **Conditional Logic**: Conditional logic either: repeats 1-3 if article threshold not reached, proceeds to step 5, end with no articles found.\n",
    "\n",
    "5. **Relevant Article Selection (LLM 2)**: The model selects urls from the most relevant n-articles for the user query based on the short synopsis provided by the API.\n",
    "\n",
    "6. **Generate TL;DR (LLM 3+)**: A summarized set of bullet points for each article is generated concurrently with Asyncio.\n",
    "\n",
    "This workflow is managed by LangGraph to make sure that the appropriate prompt is fed to the each LLM call.\n",
    "\n",
    "## Conclusion\n",
    "This news TL;DR agent highlights the utility of coordinating successive LLM generations in order to\n",
    "achieve a higher level goal.\n",
    "\n",
    "Although the current implementation only retrieves bulleted summaries, it could be elaborated to start\n",
    "a dialogue with the user that could allow them to ask questions about the article and get \n",
    "more information or to collectively generate a coherent opinion."
   ]
  },
  {
   "cell_type": "markdown",
   "metadata": {},
   "source": [
    "## Setup and Imports\n",
    "\n",
    "Import necessary libraries"
   ]
  },
  {
   "cell_type": "code",
   "execution_count": 210,
   "metadata": {},
   "outputs": [],
   "source": [
    "import os\n",
    "from typing import TypedDict, Annotated, List\n",
    "from langgraph.graph import Graph, END\n",
    "from langchain_openai import ChatOpenAI\n",
    "from langchain_core.prompts import PromptTemplate\n",
    "from langchain_openai import ChatOpenAI\n",
    "from pydantic import BaseModel, Field\n",
    "from langchain_core.output_parsers import JsonOutputParser\n",
    "from langchain_core.runnables.graph import MermaidDrawMethod\n",
    "from datetime import datetime\n",
    "import re\n",
    "\n",
    "from getpass import getpass\n",
    "from dotenv import load_dotenv\n",
    "\n",
    "from newsapi import NewsApiClient\n",
    "import requests\n",
    "from bs4 import BeautifulSoup\n",
    "\n",
    "from IPython.display import display, Image as IPImage\n",
    "import asyncio"
   ]
  },
  {
   "cell_type": "markdown",
   "metadata": {},
   "source": [
    "## Get an NewsAPI Key\n",
    "* create a free developer account at https://newsapi.org/\n",
    "* 100 requests per day\n",
    "* articles between 1 day and 1 month old"
   ]
  },
  {
   "cell_type": "markdown",
   "metadata": {},
   "source": [
    "## Setup LLM Model\n",
    "* create an account and register a credit card at https://platform.openai.com/chat-completions\n",
    "* create an API key"
   ]
  },
  {
   "cell_type": "markdown",
   "metadata": {},
   "source": [
    "## Create Your Environment (Optional)\n",
    "Create a file named .env in the same directory as this notebook with the following\n",
    "```\n",
    "OPENAI_API_KEY = 'your-api-key'\n",
    "NEWSAPI_KEY = 'your-api-key'\n",
    "```\n",
    "\n",
    "If you skip this step, you will be asked to input all API keys once each time you start this notebook."
   ]
  },
  {
   "cell_type": "markdown",
   "metadata": {},
   "source": [
    "## Initialize Model and Environmental Variables\n",
    "\n",
    "If you're not running a local model with Ollama, the next cell will ask for your OPENAI_API_KEY and\n",
    "securely add it as an environmental variable. It will not persist in this notebook."
   ]
  },
  {
   "cell_type": "code",
   "execution_count": 211,
   "metadata": {},
   "outputs": [],
   "source": [
    "# check for .env file\n",
    "if os.path.exists(\".env\"):\n",
    "    load_dotenv()\n",
    "else:\n",
    "    # ask for API keys\n",
    "    os.environ[\"NEWSAPI_KEY\"] = getpass(\"Enter your News API key: \")\n",
    "    os.environ[\"OPENAI_API_KEY\"] = getpass(\"Enter your OpenAI API key: \")\n",
    "\n",
    "# sets the OpenAI model to use and initialize model\n",
    "model = \"gpt-4o-mini\"\n",
    "llm = ChatOpenAI(model=model)"
   ]
  },
  {
   "cell_type": "markdown",
   "metadata": {},
   "source": [
    "## Test APIs"
   ]
  },
  {
   "cell_type": "code",
   "execution_count": 212,
   "metadata": {},
   "outputs": [
    {
     "data": {
      "text/plain": [
       "\"The sky appears blue primarily due to a phenomenon called Rayleigh scattering. When sunlight enters the Earth's atmosphere, it is made up of various colors, which correspond to different wavelengths of light. Blue light has a shorter wavelength compared to other colors like red and yellow.\\n\\nAs sunlight passes through the atmosphere, it collides with gas molecules and small particles. Because blue light travels in shorter, smaller waves, it is scattered in all directions more than the other colors. This scattering causes the blue light to be more prominent when we look up at the sky.\\n\\nDuring sunrise and sunset, the sun is lower in the sky, and its light has to pass through a thicker layer of the atmosphere. This increased distance causes more scattering of the shorter blue wavelengths and allows the longer wavelengths, like red and orange, to dominate the sky's color during those times.\""
      ]
     },
     "execution_count": 212,
     "metadata": {},
     "output_type": "execute_result"
    }
   ],
   "source": [
    "llm.invoke(\"Why is the sky blue?\").content"
   ]
  },
  {
   "cell_type": "code",
   "execution_count": 213,
   "metadata": {},
   "outputs": [
    {
     "data": {
      "text/plain": [
       "{'source': {'id': 'cnn', 'name': 'CNN'},\n",
       " 'author': 'Krystal Hur',\n",
       " 'title': 'What fueled this week’s record-breaking stock rally | CNN Business',\n",
       " 'description': 'The stock market is racking up record highs again. Investors are wasting no time moving into riskier assets from bitcoin to tech stocks after last week’s long-awaited rate cut from the Federal Reserve.',\n",
       " 'url': 'https://www.cnn.com/2024/09/27/investing/stocks-records-pce-fed/index.html',\n",
       " 'urlToImage': 'https://media.cnn.com/api/v1/images/stellar/prod/gettyimages-2173210136-copy.jpg?c=16x9&q=w_800,c_fill',\n",
       " 'publishedAt': '2024-09-27T16:31:21Z',\n",
       " 'content': 'The stock market is racking up record highs again. Investors are wasting no time moving into riskier assets from bitcoin to tech stocks after last weeks long-awaited rate cut from the Federal Reserve… [+3533 chars]'}"
      ]
     },
     "execution_count": 213,
     "metadata": {},
     "output_type": "execute_result"
    }
   ],
   "source": [
    "newsapi = NewsApiClient(api_key=os.getenv('NEWSAPI_KEY'))\n",
    "\n",
    "query = 'bitcoin price'\n",
    "\n",
    "all_articles = newsapi.get_everything(q=query,\n",
    "                                      sources='cnn',\n",
    "                                      domains='bbc.co.uk,techcrunch.com',\n",
    "                                      language='en',\n",
    "                                      sort_by='relevancy',)\n",
    "\n",
    "\n",
    "all_articles['articles'][0]"
   ]
  },
  {
   "cell_type": "markdown",
   "metadata": {},
   "source": [
    "## Define Data Structures\n",
    "\n",
    "Define the GraphState class. Each user query will be added to a new instance of this class, which will be passed\n",
    "through the LangGraph structure while collect outputs from each step. When it reaches the END node, it's final\n",
    "result will be returned to the user."
   ]
  },
  {
   "cell_type": "code",
   "execution_count": 214,
   "metadata": {},
   "outputs": [],
   "source": [
    "class GraphState(TypedDict):\n",
    "    news_query: Annotated[str, \"Input query to extract news search parameters from.\"]\n",
    "    num_searches_remaining: Annotated[int, \"Number of articles to search for.\"]\n",
    "    newsapi_params: Annotated[dict, \"Structured argument for the News API.\"]\n",
    "    past_searches: Annotated[List[dict], \"List of search params already used.\"]\n",
    "    articles_metadata: Annotated[list[dict], \"Article metadata response from the News API\"]\n",
    "    scraped_urls: Annotated[List[str], \"List of urls already scraped.\"]\n",
    "    num_articles_tldr: Annotated[int, \"Number of articles to create TL;DR for.\"]\n",
    "    potential_articles: Annotated[List[dict[str, str, str]], \"Article with full text to consider summarizing.\"]\n",
    "    tldr_articles: Annotated[List[dict[str, str, str]], \"Selected article TL;DRs.\"]\n",
    "    formatted_result: Annotated[str, \"Formatted result to display to user.\"]"
   ]
  },
  {
   "cell_type": "markdown",
   "metadata": {},
   "source": [
    "## Define NewsAPI argument data structure with Pydantic\n",
    "* the model will create a formatted dictionary of params for the NewsAPI call\n",
    "* the NewsApiParams class inherits from the Pydantic BaseModel\n",
    "* Langchain will parse and feed paramd descriptions to the LLM"
   ]
  },
  {
   "cell_type": "code",
   "execution_count": 215,
   "metadata": {},
   "outputs": [],
   "source": [
    "class NewsApiParams(BaseModel):\n",
    "    q: str = Field(description=\"1-3 concise keyword search terms that are not too specific\")\n",
    "    sources: str =Field(description=\"comma-separated list of sources from: 'abc-news,abc-news-au,associated-press,australian-financial-review,axios,bbc-news,bbc-sport,bloomberg,business-insider,cbc-news,cbs-news,cnn,financial-post,fortune'\")\n",
    "    from_param: str = Field(description=\"date in format 'YYYY-MM-DD' Two days ago minimum. Extend up to 30 days on second and subsequent requests.\")\n",
    "    to: str = Field(description=\"date in format 'YYYY-MM-DD' today's date unless specified\")\n",
    "    language: str = Field(description=\"language of articles 'en' unless specified one of ['ar', 'de', 'en', 'es', 'fr', 'he', 'it', 'nl', 'no', 'pt', 'ru', 'se', 'ud', 'zh']\")\n",
    "    sort_by: str = Field(description=\"sort by 'relevancy', 'popularity', or 'publishedAt'\")"
   ]
  },
  {
   "cell_type": "markdown",
   "metadata": {},
   "source": [
    "## Define Graph Functions\n",
    "\n",
    "Define the functions (nodes) that will be used in the LangGraph workflow."
   ]
  },
  {
   "cell_type": "code",
   "execution_count": 216,
   "metadata": {},
   "outputs": [],
   "source": [
    "def generate_newsapi_params(state: GraphState) -> GraphState:\n",
    "    \"\"\"Based on the query, generate News API params.\"\"\"\n",
    "    # initialize parser to define the structure of the response\n",
    "    parser = JsonOutputParser(pydantic_object=NewsApiParams)\n",
    "\n",
    "    # retrieve today's date\n",
    "    today_date = datetime.now().strftime(\"%Y-%m-%d\")\n",
    "\n",
    "    # retrieve list of past search params\n",
    "    past_searches = state[\"past_searches\"]\n",
    "\n",
    "    # retrieve number of searches remaining\n",
    "    num_searches_remaining = state[\"num_searches_remaining\"]\n",
    "\n",
    "    # retrieve the user's query\n",
    "    news_query = state[\"news_query\"]\n",
    "\n",
    "    template = \"\"\"\n",
    "    Today is {today_date}.\n",
    "\n",
    "    Create a param dict for the News API based on the user query:\n",
    "    {query}\n",
    "\n",
    "    These searches have already been made. Loosen the search terms to get more results.\n",
    "    {past_searches}\n",
    "    \n",
    "    Following these formatting instructions:\n",
    "    {format_instructions}\n",
    "\n",
    "    Including this one, you have {num_searches_remaining} searches remaining.\n",
    "    If this is your last search, use all news sources and a 30 days search range.\n",
    "    \"\"\"\n",
    "\n",
    "    # create a prompt template to merge the query, today's date, and the format instructions\n",
    "    prompt_template = PromptTemplate(\n",
    "        template=template,\n",
    "        variables={\"today\": today_date, \"query\": news_query, \"past_searches\": past_searches, \"num_searches_remaining\": num_searches_remaining},\n",
    "        partial_variables={\"format_instructions\": parser.get_format_instructions()}\n",
    "    )\n",
    "\n",
    "    # create prompt chain template\n",
    "    chain = prompt_template | llm | parser\n",
    "\n",
    "    # invoke the chain with the news api query\n",
    "    result = chain.invoke({\"query\": news_query, \"today_date\": today_date, \"past_searches\": past_searches, \"num_searches_remaining\": num_searches_remaining})\n",
    "\n",
    "    # update the state\n",
    "    state[\"newsapi_params\"] = result\n",
    "\n",
    "    return state"
   ]
  },
  {
   "cell_type": "code",
   "execution_count": 217,
   "metadata": {},
   "outputs": [],
   "source": [
    "def retrieve_articles_metadata(state: GraphState) -> GraphState:\n",
    "    \"\"\"Using the NewsAPI params, perform api call.\"\"\"\n",
    "    # parameters generated for the News API\n",
    "    newsapi_params = state[\"newsapi_params\"]\n",
    "\n",
    "    # decrement the number of searches remaining\n",
    "    state['num_searches_remaining'] -= 1\n",
    "\n",
    "    try:\n",
    "        # create a NewsApiClient object\n",
    "        newsapi = NewsApiClient(api_key=os.getenv('NEWSAPI_KEY'))\n",
    "        \n",
    "        # retreive the metadata of the new articles\n",
    "        articles = newsapi.get_everything(**newsapi_params)\n",
    "\n",
    "        # append this search term to the past searches to avoid duplicates\n",
    "        state['past_searches'].append(newsapi_params)\n",
    "\n",
    "        # load urls that have already been returned and scraped\n",
    "        scraped_urls = state[\"scraped_urls\"]\n",
    "\n",
    "        # filter out articles that have already been scraped\n",
    "        new_articles = []\n",
    "        for article in articles['articles']:\n",
    "            if article['url'] not in scraped_urls and len(state['potential_articles']) + len(new_articles) < 10:\n",
    "                new_articles.append(article)\n",
    "\n",
    "        # reassign new articles to the state\n",
    "        state[\"articles_metadata\"] = new_articles\n",
    "\n",
    "    # handle exceptions\n",
    "    except Exception as e:\n",
    "        print(f\"Error: {e}\")\n",
    "\n",
    "    return state"
   ]
  },
  {
   "cell_type": "code",
   "execution_count": 218,
   "metadata": {},
   "outputs": [],
   "source": [
    "def retrieve_articles_text(state: GraphState) -> GraphState:\n",
    "    \"\"\"Web scrapes to retrieve article text.\"\"\"\n",
    "    # load retrieved article metadata\n",
    "    articles_metadata = state[\"articles_metadata\"]\n",
    "    # Add headers to simulate a browser\n",
    "    headers = {\n",
    "        'User-Agent': 'Mozilla/5.0 (Windows NT 10.0; Win64; x64) AppleWebKit/537.36 (KHTML, like Gecko) Chrome/85.0.4183.121 Safari/537.36'\n",
    "    }\n",
    "\n",
    "    # create list to store valid article dicts\n",
    "    potential_articles = []\n",
    "\n",
    "    # iterate over the urls\n",
    "    for article in articles_metadata:\n",
    "        # extract the url\n",
    "        url = article['url']\n",
    "\n",
    "        # use beautiful soup to extract the article content\n",
    "        response = requests.get(url, headers=headers)\n",
    "        \n",
    "        # check if the request was successful\n",
    "        if response.status_code == 200:\n",
    "            # parse the HTML content\n",
    "            soup = BeautifulSoup(response.content, 'html.parser')\n",
    "\n",
    "            # find the article content\n",
    "            article_text = soup.get_text(strip=True)\n",
    "\n",
    "            # append article dict to list\n",
    "            potential_articles.append({\"url\": url, \"description\": article[\"description\"], \"text\": article_text})\n",
    "\n",
    "            # append the url to the processed urls\n",
    "            state[\"scraped_urls\"].append(url)\n",
    "\n",
    "    # append the processed articles to the state\n",
    "    state[\"potential_articles\"].extend(potential_articles)\n",
    "\n",
    "    return state"
   ]
  },
  {
   "cell_type": "code",
   "execution_count": 219,
   "metadata": {},
   "outputs": [],
   "source": [
    "def select_top_urls(state: GraphState) -> GraphState:\n",
    "    \"\"\"Based on the article synoses, choose the top-n articles to summarize.\"\"\"\n",
    "    news_query = state[\"news_query\"]\n",
    "    num_articles_tldr = state[\"num_articles_tldr\"]\n",
    "    \n",
    "    # load all processed articles with full text but no summaries\n",
    "    potential_articles = state[\"potential_articles\"]\n",
    "\n",
    "    # format the metadata\n",
    "    formatted_metadata = \"\\n\".join([f\"{article['url']}\\n{article['description']}\\n\" for article in potential_articles])\n",
    "\n",
    "    prompt = f\"\"\"\n",
    "    Based on the user news query:\n",
    "    {news_query}\n",
    "\n",
    "    Reply with a list of strings of up to {num_articles_tldr} relevant urls.\n",
    "    Don't add any urls that are not relevant or aren't listed specifically.\n",
    "    {formatted_metadata}\n",
    "    \"\"\"\n",
    "    result = llm.invoke(prompt).content\n",
    "\n",
    "    # use regex to extract the urls as a list\n",
    "    url_pattern = r'(https?://[^\\s\",]+)'\n",
    "\n",
    "    # Find all URLs in the text\n",
    "    urls = re.findall(url_pattern, result)\n",
    "\n",
    "    # add the selected article metadata to the state\n",
    "    tldr_articles = [article for article in potential_articles if article['url'] in urls]\n",
    "\n",
    "    # tldr_articles = [article for article in potential_articles if article['url'] in urls]\n",
    "    state[\"tldr_articles\"] = tldr_articles\n",
    "\n",
    "    return state"
   ]
  },
  {
   "cell_type": "code",
   "execution_count": 220,
   "metadata": {},
   "outputs": [],
   "source": [
    "async def summarize_articles_parallel(state: GraphState) -> GraphState:\n",
    "    \"\"\"Summarize the articles based on full text.\"\"\"\n",
    "    tldr_articles = state[\"tldr_articles\"]\n",
    "\n",
    "    prompt = \"\"\"\n",
    "    Summarize the article text in a bulleted tl;dr. Each line should start with a hyphen -\n",
    "    {article_text}\n",
    "    \"\"\"\n",
    "\n",
    "    # iterate over the selected articles and collect summaries synchronously\n",
    "    for i in range(len(tldr_articles)):\n",
    "        # invoke the llm synchronously\n",
    "        result = llm.invoke(prompt.format(article_text=tldr_articles[i][\"text\"]))\n",
    "        tldr_articles[i][\"summary\"] = result.content\n",
    "\n",
    "    state[\"tldr_articles\"] = tldr_articles\n",
    "\n",
    "    return state"
   ]
  },
  {
   "cell_type": "markdown",
   "metadata": {},
   "source": [
    "## Set Up LangGraph Workflow"
   ]
  },
  {
   "cell_type": "markdown",
   "metadata": {},
   "source": [
    "Set up decision logic to try to retrieve `num_searches_remaining` articles, while limiting attempts to 5."
   ]
  },
  {
   "cell_type": "code",
   "execution_count": 221,
   "metadata": {},
   "outputs": [],
   "source": [
    "def articles_text_decision(state: GraphState) -> str:\n",
    "    \"\"\"Check results of retrieve_articles_text to determine next step.\"\"\"\n",
    "    if state[\"num_searches_remaining\"] == 0:\n",
    "        # if no articles with text were found return END\n",
    "        if len(state[\"potential_articles\"]) == 0:\n",
    "            state[\"formatted_result\"] = \"No articles with text found.\"\n",
    "            return \"END\"\n",
    "        # if some articles were found, move on to selecting the top urls\n",
    "        else:\n",
    "            return \"select_top_urls\"\n",
    "    else:\n",
    "        # if the number of articles found is less than the number of articles to summarize, continue searching\n",
    "        if len(state[\"potential_articles\"]) < state[\"num_articles_tldr\"]:\n",
    "            return \"generate_newsapi_params\"\n",
    "        # otherwise move on to selecting the top urls\n",
    "        else:\n",
    "            return \"select_top_urls\""
   ]
  },
  {
   "cell_type": "markdown",
   "metadata": {},
   "source": [
    "Define the LangGraph workflow by adding nodes and edges."
   ]
  },
  {
   "cell_type": "code",
   "execution_count": 222,
   "metadata": {},
   "outputs": [],
   "source": [
    "workflow = Graph()\n",
    "\n",
    "workflow.set_entry_point(\"generate_newsapi_params\")\n",
    "\n",
    "workflow.add_node(\"generate_newsapi_params\", generate_newsapi_params)\n",
    "workflow.add_node(\"retrieve_articles_metadata\", retrieve_articles_metadata)\n",
    "workflow.add_node(\"retrieve_articles_text\", retrieve_articles_text)\n",
    "workflow.add_node(\"select_top_urls\", select_top_urls)\n",
    "workflow.add_node(\"summarize_articles_parallel\", summarize_articles_parallel)\n",
    "# workflow.add_node(\"add_commentary\", add_commentary)\n",
    "\n",
    "workflow.add_edge(\"generate_newsapi_params\", \"retrieve_articles_metadata\")\n",
    "workflow.add_edge(\"retrieve_articles_metadata\", \"retrieve_articles_text\")\n",
    "# # if the number of articles with parseable text is less than number requested, then search for more articles\n",
    "workflow.add_conditional_edges(\n",
    "    \"retrieve_articles_text\",\n",
    "    articles_text_decision,\n",
    "    {\n",
    "        \"generate_newsapi_params\": \"generate_newsapi_params\",\n",
    "        \"select_top_urls\": \"select_top_urls\",\n",
    "        \"END\": END\n",
    "    }\n",
    "    )\n",
    "workflow.add_edge(\"select_top_urls\", \"summarize_articles_parallel\")\n",
    "workflow.add_edge(\"summarize_articles_parallel\", END)\n",
    "\n",
    "app = workflow.compile()\n"
   ]
  },
  {
   "cell_type": "markdown",
   "metadata": {},
   "source": [
    "## Display Graph Structure"
   ]
  },
  {
   "cell_type": "code",
   "execution_count": 223,
   "metadata": {},
   "outputs": [
    {
     "data": {
      "image/jpeg": "[encoded data removed]",
      "text/plain": [
       "<IPython.core.display.Image object>"
      ]
     },
     "metadata": {},
     "output_type": "display_data"
    }
   ],
   "source": [
    "display(\n",
    "    IPImage(\n",
    "        app.get_graph().draw_mermaid_png(\n",
    "            draw_method=MermaidDrawMethod.API,\n",
    "        )\n",
    "    )\n",
    ")"
   ]
  },
  {
   "cell_type": "markdown",
   "metadata": {},
   "source": [
    "## Run Workflow Function\n",
    "\n",
    "Define a function to run the workflow and display results."
   ]
  },
  {
   "cell_type": "code",
   "execution_count": 224,
   "metadata": {},
   "outputs": [],
   "source": [
    "async def run_workflow(query: str, num_searches_remaining: int = 10, num_articles_tldr: int = 3):\n",
    "    \"\"\"Run the LangGraph workflow and display results.\"\"\"\n",
    "    initial_state = {\n",
    "        \"news_query\": query,\n",
    "        \"num_searches_remaining\": num_searches_remaining,\n",
    "        \"newsapi_params\": {},\n",
    "        \"past_searches\": [],\n",
    "        \"articles_metadata\": [],\n",
    "        \"scraped_urls\": [],\n",
    "        \"num_articles_tldr\": num_articles_tldr,\n",
    "        \"potential_articles\": [],\n",
    "        \"tldr_articles\": [],\n",
    "        \"formatted_result\": \"\",\n",
    "    }\n",
    "    try:\n",
    "        result = await app.ainvoke(initial_state)\n",
    "\n",
    "        print(f\"\\nArticles TL;DR:\")\n",
    "        for tldr in result[\"tldr_articles\"]:\n",
    "            print(f\"{tldr['url']}\\n{tldr['summary']}\\n\")\n",
    "        \n",
    "        return result\n",
    "    except Exception as e:\n",
    "        print(f\"An error occurred: {str(e)}\")\n",
    "        return None"
   ]
  },
  {
   "cell_type": "markdown",
   "metadata": {},
   "source": [
    "## Execute Workflow\n",
    "\n",
    "Run the workflow with a sample query."
   ]
  },
  {
   "cell_type": "code",
   "execution_count": 226,
   "metadata": {},
   "outputs": [
    {
     "name": "stdout",
     "output_type": "stream",
     "text": [
      "\n",
      "TL;DR of 3 Articles:\n",
      "https://abcnews.go.com/538/trump-gained-538s-forecast-election-toss/story?id=114907042\n",
      "- Trump has gained ground in 538's forecast, now with a 52-in-100 chance to win against Harris's 58-in-100 chance two weeks ago.\n",
      "- The election remains a toss-up, with both candidates having nearly equal chances of winning.\n",
      "- Polling averages indicate a very close race, with margins of 2 percentage points or less in key swing states.\n",
      "- Harris leads Trump by only 2.0 points in national polls, a tighter margin than in the 2020 and 2016 elections.\n",
      "- Recent high-quality polls show stability, with Harris's support among key demographics remaining largely unchanged.\n",
      "- State polls indicate more movement, with Harris losing ground in all seven major swing states.\n",
      "- Concerns about partisan bias in polling averages are addressed, showing minimal impact from Republican-aligned polls.\n",
      "- The forecast's uncertainty reflects the potential for significant shifts in the final weeks of the campaign.\n",
      "- A close election in terms of odds doesn't guarantee a tight final vote count; either candidate could win decisively.\n",
      "- The article emphasizes the need for critical consumption of polls, while also highlighting the reliability of 538's methodology.\n",
      "\n",
      "https://abcnews.go.com/Politics/democratic-blue-wall-governors-make-case-harris-final/story?id=114960031\n",
      "- Democratic governors from key \"blue wall\" states are campaigning for Vice President Kamala Harris as the election approaches.\n",
      "- They highlight Harris' strong ground game but recognize the presidential race is very close.\n",
      "- Polling indicates a tight race in Michigan, Wisconsin, and Pennsylvania, crucial for securing electoral votes.\n",
      "- The governors emphasize the importance of high voter turnout, particularly among traditional Democratic voting blocs.\n",
      "- Concerns exist about voter engagement, especially among Black voters and Arab Americans in Michigan.\n",
      "- They stress the need for effective communication to win over undecided voters and those frustrated with the current administration.\n",
      "- The governors express confidence in the election process while anticipating potential misinformation from Donald Trump regarding the election results.\n",
      "\n"
     ]
    }
   ],
   "source": [
    "query = \"Who is winning the us presidential race?\"\n",
    "result = await run_workflow(query)"
   ]
  }
 ],
 "metadata": {
  "kernelspec": {
   "display_name": "agent_craft",
   "language": "python",
   "name": "python3"
  },
  "language_info": {
   "codemirror_mode": {
    "name": "ipython",
    "version": 3
   },
   "file_extension": ".py",
   "mimetype": "text/x-python",
   "name": "python",
   "nbconvert_exporter": "python",
   "pygments_lexer": "ipython3",
   "version": "3.12.7"
  }
 },
 "nbformat": 4,
 "nbformat_minor": 2
}
